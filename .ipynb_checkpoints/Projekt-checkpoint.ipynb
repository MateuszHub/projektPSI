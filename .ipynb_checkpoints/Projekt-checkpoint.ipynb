{
 "cells": [
  {
   "cell_type": "code",
   "execution_count": 3,
   "metadata": {},
   "outputs": [],
   "source": [
    "import numpy as np\n",
    "import tensorflow as tf\n",
    "import keras\n",
    "import pandas as pd\n",
    "import matplotlib.pyplot as plt\n",
    "from sklearn import metrics\n",
    "from sklearn.model_selection import train_test_split\n",
    "import seaborn as sb"
   ]
  },
  {
   "cell_type": "markdown",
   "metadata": {},
   "source": [
    "Pobranie danych:"
   ]
  },
  {
   "cell_type": "code",
   "execution_count": 4,
   "metadata": {},
   "outputs": [
    {
     "data": {
      "text/plain": [
       "'C:\\\\Users\\\\Speed3\\\\Documents\\\\Python\\\\psi\\\\autos_utf8.csv'"
      ]
     },
     "execution_count": 4,
     "metadata": {},
     "output_type": "execute_result"
    }
   ],
   "source": [
    "import os,sys\n",
    "file_path = os.path.join(os.path.realpath(\".\"), \"autos_utf8.csv\")\n",
    "file_path\n"
   ]
  },
  {
   "cell_type": "code",
   "execution_count": 50,
   "metadata": {},
   "outputs": [],
   "source": [
    "data = pd.read_csv(file_path)\n",
    "data.head()\n",
    "data = data[data[\"offerType\"]==\"Angebot\"]\n",
    "data = data[data[\"model\"].isnull() == False]\n",
    "data = data[data[\"notRepairedDamage\"].isnull() == False]\n",
    "data = data[data[\"model\"] != \"andere\"]\n",
    "data = data[data[\"price\"] > np.percentile(data[\"price\"],5)]\n",
    "data = data[data[\"price\"] < np.percentile(data[\"price\"],95)]"
   ]
  },
  {
   "cell_type": "code",
   "execution_count": 51,
   "metadata": {},
   "outputs": [
    {
     "data": {
      "image/png": "[encoded data removed]",
      "text/plain": [
       "<Figure size 432x432 with 2 Axes>"
      ]
     },
     "metadata": {
      "needs_background": "light"
     },
     "output_type": "display_data"
    }
   ],
   "source": [
    "C_mat = data.corr()\n",
    "fig = plt.figure(figsize = (6,6))\n",
    "sb.heatmap(C_mat, vmax = 1, vmin=0.4)\n",
    "plt.show()"
   ]
  },
  {
   "cell_type": "code",
   "execution_count": 53,
   "metadata": {},
   "outputs": [
    {
     "data": {
      "text/plain": [
       "0    5000\n",
       "Name: nrOfPictures, dtype: int64"
      ]
     },
     "execution_count": 53,
     "metadata": {},
     "output_type": "execute_result"
    }
   ],
   "source": [
    "mpm = data['model'].value_counts()[:50].sort_values(ascending=False)\n",
    "data = data.loc[data['model'].isin(mpm.index)]\n",
    "data = data[0:5000]\n",
    "# print(mpm.index.array)\n",
    "data['nrOfPictures'].value_counts()"
   ]
  },
  {
   "cell_type": "code",
   "execution_count": 54,
   "metadata": {},
   "outputs": [
    {
     "data": {
      "text/plain": [
       "privat    5000\n",
       "Name: seller, dtype: int64"
      ]
     },
     "execution_count": 54,
     "metadata": {},
     "output_type": "execute_result"
    }
   ],
   "source": [
    "data['seller'].value_counts()"
   ]
  },
  {
   "cell_type": "code",
   "execution_count": 8,
   "metadata": {},
   "outputs": [],
   "source": [
    "y = data['price']\n",
    "X = data.drop(['seller',\"price\",'abtest',\"lastSeen\",\"dateCreated\",\"dateCrawled\",\"name\",\"nrOfPictures\",\"offerType\"], axis=1)"
   ]
  },
  {
   "cell_type": "code",
   "execution_count": 9,
   "metadata": {},
   "outputs": [],
   "source": [
    "from sklearn.base import BaseEstimator, TransformerMixin\n",
    "from sklearn.pipeline import Pipeline\n",
    "from sklearn.impute import SimpleImputer\n",
    "from sklearn.preprocessing import OneHotEncoder\n",
    "from sklearn.pipeline import FeatureUnion\n",
    "\n",
    "class DataFrameSelector(BaseEstimator, TransformerMixin):\n",
    "    def __init__(self, attribute_names):\n",
    "        self.attribute_names = attribute_names\n",
    "    def fit(self, X, y=None):\n",
    "        return self\n",
    "    def transform(self, X):\n",
    "        return X[self.attribute_names]\n",
    "class MostFrequentImputer(BaseEstimator, TransformerMixin):\n",
    "    def fit(self, X, y=None):\n",
    "        self.most_frequent_ = pd.Series([X[c].value_counts().index[0] for c in X],\n",
    "                                        index=X.columns)\n",
    "        return self\n",
    "    def transform(self, X, y=None):\n",
    "        return X.fillna(self.most_frequent_)\n",
    "    \n",
    "ps_pipeline = Pipeline([\n",
    "        (\"select_numeric\", DataFrameSelector([\"powerPS\"])),\n",
    "#         (\"imputer\", SimpleImputer(strategy=\"median\", missing_values=0)),\n",
    "])\n",
    "num_pipeline = Pipeline([\n",
    "        (\"select_numeric\", DataFrameSelector([\"yearOfRegistration\",\"kilometer\",\"monthOfRegistration\",\"postalCode\"])),\n",
    "        (\"imputer\", SimpleImputer(strategy=\"median\")),\n",
    "])\n",
    "cat_pipeline = Pipeline([\n",
    "        (\"select_cat\", DataFrameSelector([\"vehicleType\",\"notRepairedDamage\", \"fuelType\", \"gearbox\",\"model\"])),\n",
    "        (\"imputer\", MostFrequentImputer()),\n",
    "        (\"cat_encoder\", OneHotEncoder(dtype=np.int8, sparse=False, handle_unknown = 'ignore')),\n",
    "    ])\n",
    "\n",
    "preprocess_pipeline = FeatureUnion(transformer_list=[\n",
    "        (\"ps_pipeline\", ps_pipeline),\n",
    "        (\"num_pipeline\", num_pipeline),\n",
    "        (\"cat_pipeline\", cat_pipeline),\n",
    "    ])\n",
    "\n",
    "\n",
    "processedX = preprocess_pipeline.fit_transform(X)\n",
    "X_train, X_test, y_train, y_test = train_test_split(processedX, y, test_size=0.2, random_state=42)\n",
    "\n"
   ]
  },
  {
   "cell_type": "code",
   "execution_count": 10,
   "metadata": {},
   "outputs": [
    {
     "data": {
      "text/plain": [
       "array([8.2000e+01, 2.0070e+03, 9.0000e+04, 3.0000e+00, 8.0999e+04,\n",
       "       0.0000e+00, 0.0000e+00, 0.0000e+00, 0.0000e+00, 0.0000e+00,\n",
       "       0.0000e+00, 1.0000e+00, 0.0000e+00, 0.0000e+00, 1.0000e+00,\n",
       "       0.0000e+00, 0.0000e+00, 0.0000e+00, 1.0000e+00, 0.0000e+00,\n",
       "       0.0000e+00, 1.0000e+00, 0.0000e+00, 0.0000e+00, 0.0000e+00,\n",
       "       0.0000e+00, 0.0000e+00, 0.0000e+00, 0.0000e+00, 0.0000e+00,\n",
       "       0.0000e+00, 0.0000e+00, 1.0000e+00, 0.0000e+00, 0.0000e+00,\n",
       "       0.0000e+00, 0.0000e+00, 0.0000e+00, 0.0000e+00, 0.0000e+00,\n",
       "       0.0000e+00, 0.0000e+00, 0.0000e+00, 0.0000e+00, 0.0000e+00,\n",
       "       0.0000e+00, 0.0000e+00, 0.0000e+00, 0.0000e+00, 0.0000e+00,\n",
       "       0.0000e+00, 0.0000e+00, 0.0000e+00, 0.0000e+00, 0.0000e+00,\n",
       "       0.0000e+00, 0.0000e+00, 0.0000e+00, 0.0000e+00, 0.0000e+00,\n",
       "       0.0000e+00, 0.0000e+00, 0.0000e+00, 0.0000e+00, 0.0000e+00,\n",
       "       0.0000e+00, 0.0000e+00, 0.0000e+00, 0.0000e+00, 0.0000e+00,\n",
       "       0.0000e+00, 0.0000e+00])"
      ]
     },
     "execution_count": 10,
     "metadata": {},
     "output_type": "execute_result"
    }
   ],
   "source": [
    "X_train[0]\n",
    "# X_train.size"
   ]
  },
  {
   "cell_type": "code",
   "execution_count": 11,
   "metadata": {},
   "outputs": [
    {
     "data": {
      "text/plain": [
       "array([0.13598673, 0.78846154, 0.5862069 , 0.25      , 0.80815311,\n",
       "       0.        , 0.        , 0.        , 0.        , 0.        ,\n",
       "       0.        , 1.        , 0.        , 0.        , 1.        ,\n",
       "       0.        , 0.        , 0.        , 1.        , 0.        ,\n",
       "       0.        , 1.        , 0.        , 0.        , 0.        ,\n",
       "       0.        , 0.        , 0.        , 0.        , 0.        ,\n",
       "       0.        , 0.        , 1.        , 0.        , 0.        ,\n",
       "       0.        , 0.        , 0.        , 0.        , 0.        ,\n",
       "       0.        , 0.        , 0.        , 0.        , 0.        ,\n",
       "       0.        , 0.        , 0.        , 0.        , 0.        ,\n",
       "       0.        , 0.        , 0.        , 0.        , 0.        ,\n",
       "       0.        , 0.        , 0.        , 0.        , 0.        ,\n",
       "       0.        , 0.        , 0.        , 0.        , 0.        ,\n",
       "       0.        , 0.        , 0.        , 0.        , 0.        ,\n",
       "       0.        , 0.        ])"
      ]
     },
     "execution_count": 11,
     "metadata": {},
     "output_type": "execute_result"
    }
   ],
   "source": [
    "from sklearn.preprocessing import MinMaxScaler, Normalizer, StandardScaler\n",
    "scaler = MinMaxScaler().fit(X_train)\n",
    "X_train = scaler.transform(X_train)\n",
    "X_test = scaler.transform(X_test)\n",
    "X_train[0]"
   ]
  },
  {
   "cell_type": "code",
   "execution_count": 12,
   "metadata": {},
   "outputs": [
    {
     "name": "stderr",
     "output_type": "stream",
     "text": [
      "E:\\Anaconda\\lib\\site-packages\\sklearn\\model_selection\\_split.py:296: FutureWarning: Setting a random_state has no effect since shuffle is False. This will raise an error in 0.24. You should leave random_state to its default (None), or set shuffle=True.\n",
      "  FutureWarning\n"
     ]
    }
   ],
   "source": [
    "from sklearn.model_selection import GridSearchCV\n",
    "from sklearn import linear_model\n",
    "from sklearn.preprocessing import PolynomialFeatures\n",
    "from sklearn.linear_model import Ridge\n",
    "from sklearn.linear_model import Lasso\n",
    "from sklearn.linear_model import ElasticNet\n",
    "from sklearn.pipeline import make_pipeline\n",
    "from sklearn import model_selection\n",
    "from sklearn.model_selection import cross_val_score\n",
    "from sklearn.neural_network import MLPRegressor\n",
    "from sklearn.ensemble import VotingRegressor\n",
    "from keras.layers import BatchNormalization\n",
    "from keras.layers import Dense, Dropout, Activation\n",
    "from keras.callbacks import EarlyStopping\n",
    "from sklearn.svm import LinearSVR\n",
    "from scipy.stats import reciprocal\n",
    "from sklearn.model_selection import RandomizedSearchCV\n",
    "from keras.layers.advanced_activations import PReLU\n",
    "from keras.regularizers import l1,l2\n",
    "from keras.wrappers.scikit_learn import KerasRegressor\n",
    "from keras import activations\n",
    "from xgboost import XGBRegressor\n",
    "seed=123\n",
    "kfold = model_selection.KFold(n_splits=5, random_state=seed)\n",
    "models = []"
   ]
  },
  {
   "cell_type": "code",
   "execution_count": 13,
   "metadata": {},
   "outputs": [
    {
     "name": "stdout",
     "output_type": "stream",
     "text": [
      "{'elasticnet__alpha': 0.001, 'polynomialfeatures__degree': 2}\n",
      "0.7702435444306737\n"
     ]
    },
    {
     "name": "stderr",
     "output_type": "stream",
     "text": [
      "E:\\Anaconda\\lib\\site-packages\\sklearn\\linear_model\\_coordinate_descent.py:476: ConvergenceWarning: Objective did not converge. You might want to increase the number of iterations. Duality gap: 8269212230.928406, tolerance: 82699459.98809612\n",
      "  positive)\n"
     ]
    }
   ],
   "source": [
    "grid_1 = GridSearchCV(estimator=make_pipeline(PolynomialFeatures(degree=2), ElasticNet(alpha=1, tol=0.001)),\n",
    "                      param_grid={'polynomialfeatures__degree': [2],\n",
    "                      'elasticnet__alpha': [0.01,.001]},\n",
    "                      scoring='r2',\n",
    "                      cv=kfold,\n",
    "                     n_jobs=-1)\n",
    "\n",
    "grid_1.fit(X_train, y_train)\n",
    "print(grid_1.best_params_)\n",
    "print(grid_1.best_score_)"
   ]
  },
  {
   "cell_type": "code",
   "execution_count": 14,
   "metadata": {},
   "outputs": [
    {
     "name": "stdout",
     "output_type": "stream",
     "text": [
      "{'polynomialfeatures__degree': 1}\n",
      "-1.4284184246983815e+21\n"
     ]
    }
   ],
   "source": [
    "grid_2 = GridSearchCV(estimator=make_pipeline(PolynomialFeatures(degree=2), linear_model.LinearRegression()),\n",
    "                      param_grid={'polynomialfeatures__degree': [1]},\n",
    "                      scoring='r2',\n",
    "                      cv=kfold,\n",
    "                     n_jobs=-1)\n",
    "\n",
    "grid_2.fit(X_train, y_train)\n",
    "print(grid_2.best_params_)\n",
    "print(grid_2.best_score_)"
   ]
  },
  {
   "cell_type": "code",
   "execution_count": 15,
   "metadata": {},
   "outputs": [
    {
     "name": "stdout",
     "output_type": "stream",
     "text": [
      "{'polynomialfeatures__degree': 2, 'ridge__alpha': 1}\n",
      "0.7735758448893387\n"
     ]
    }
   ],
   "source": [
    "grid_3 = GridSearchCV(estimator=make_pipeline(PolynomialFeatures(degree=2), Ridge(alpha=1, tol=0.1)),\n",
    "                      param_grid={'polynomialfeatures__degree': [2,3],\n",
    "                      'ridge__alpha': [0.1,1]},\n",
    "                      scoring='r2',\n",
    "                      cv=kfold,\n",
    "                     n_jobs=-1)\n",
    "grid_3.fit(X_train, y_train)\n",
    "print(grid_3.best_params_)\n",
    "print(grid_3.best_score_)"
   ]
  },
  {
   "cell_type": "code",
   "execution_count": 16,
   "metadata": {},
   "outputs": [
    {
     "name": "stdout",
     "output_type": "stream",
     "text": [
      "{'lasso__alpha': 1, 'polynomialfeatures__degree': 2}\n",
      "0.7595721247400038\n"
     ]
    }
   ],
   "source": [
    "grid_4 = GridSearchCV(estimator=make_pipeline(PolynomialFeatures(degree=2), Lasso(alpha=1, tol=0.1)),\n",
    "                      param_grid={'polynomialfeatures__degree': [2,4],\n",
    "                      'lasso__alpha': [0.1,1]},\n",
    "                      scoring='r2',\n",
    "                      cv=kfold,\n",
    "                     n_jobs=-1)\n",
    "\n",
    "grid_4.fit(X_train, y_train)\n",
    "print(grid_4.best_params_)\n",
    "print(grid_4.best_score_)"
   ]
  },
  {
   "cell_type": "code",
   "execution_count": 17,
   "metadata": {},
   "outputs": [
    {
     "name": "stdout",
     "output_type": "stream",
     "text": [
      "{'linearsvr__C': 10000}\n",
      "0.6561611765692298\n"
     ]
    },
    {
     "name": "stderr",
     "output_type": "stream",
     "text": [
      "E:\\Anaconda\\lib\\site-packages\\sklearn\\svm\\_base.py:947: ConvergenceWarning: Liblinear failed to converge, increase the number of iterations.\n",
      "  \"the number of iterations.\", ConvergenceWarning)\n"
     ]
    }
   ],
   "source": [
    "grid_5 = GridSearchCV(estimator=make_pipeline(LinearSVR(C=1.0)),\n",
    "                      param_grid={\n",
    "                      'linearsvr__C': [1,10,100,1000,10000]},\n",
    "                      scoring='r2',\n",
    "                      cv=kfold,\n",
    "                     n_jobs=-1)\n",
    "grid_5.fit(X_train, y_train)\n",
    "print(grid_5.best_params_)\n",
    "print(grid_5.best_score_)"
   ]
  },
  {
   "cell_type": "code",
   "execution_count": 18,
   "metadata": {},
   "outputs": [
    {
     "name": "stdout",
     "output_type": "stream",
     "text": [
      "[11:57:45] WARNING: src/objective/regression_obj.cu:152: reg:linear is now deprecated in favor of reg:squarederror.\n",
      "{'learning_rate': 0.1, 'max_depth': 5, 'n_estimators': 150}\n",
      "0.8502836667242551\n"
     ]
    }
   ],
   "source": [
    "parameters = {\n",
    "    'max_depth': [2,5,10],\n",
    "    'n_estimators': [50,100,150],\n",
    "    'learning_rate': [0.1, 0.01, 0.05]\n",
    "}\n",
    "grid_6 = GridSearchCV(estimator=XGBRegressor(nthread=8),\n",
    "                      param_grid=parameters,\n",
    "                      scoring='r2',\n",
    "                      cv=kfold,\n",
    "                     n_jobs=-1)\n",
    "grid_6.fit(X_train, y_train)\n",
    "print(grid_6.best_params_)\n",
    "print(grid_6.best_score_)"
   ]
  },
  {
   "cell_type": "code",
   "execution_count": 19,
   "metadata": {},
   "outputs": [
    {
     "name": "stdout",
     "output_type": "stream",
     "text": [
      "[11:57:47] WARNING: src/objective/regression_obj.cu:152: reg:linear is now deprecated in favor of reg:squarederror.\n"
     ]
    }
   ],
   "source": [
    "VR = VotingRegressor([('r1',grid_3.best_estimator_), ('r2',grid_6.best_estimator_)])\n",
    "vrmodel = VR.fit(X_train, y_train)"
   ]
  },
  {
   "cell_type": "code",
   "execution_count": 56,
   "metadata": {},
   "outputs": [
    {
     "name": "stdout",
     "output_type": "stream",
     "text": [
      "Model: \"sequential_4\"\n",
      "_________________________________________________________________\n",
      "Layer (type)                 Output Shape              Param #   \n",
      "=================================================================\n",
      "dense_21 (Dense)             (None, 1000)              73000     \n",
      "_________________________________________________________________\n",
      "dense_22 (Dense)             (None, 100)               100100    \n",
      "_________________________________________________________________\n",
      "dense_23 (Dense)             (None, 50)                5050      \n",
      "_________________________________________________________________\n",
      "dense_24 (Dense)             (None, 1)                 51        \n",
      "=================================================================\n",
      "Total params: 178,201\n",
      "Trainable params: 178,201\n",
      "Non-trainable params: 0\n",
      "_________________________________________________________________\n",
      "Train on 3195 samples, validate on 799 samples\n",
      "Epoch 1/1000\n",
      "3195/3195 [==============================] - 0s 106us/step - loss: 45705011.6870 - mean_squared_error: 45705008.0000 - val_loss: 45057104.0050 - val_mean_squared_error: 45057104.0000\n",
      "Epoch 2/1000\n",
      "3195/3195 [==============================] - 0s 35us/step - loss: 43842876.5208 - mean_squared_error: 43842880.0000 - val_loss: 40403455.0288 - val_mean_squared_error: 40403456.0000\n",
      "Epoch 3/1000\n",
      "3195/3195 [==============================] - 0s 34us/step - loss: 33927651.2044 - mean_squared_error: 33927656.0000 - val_loss: 25171449.1715 - val_mean_squared_error: 25171448.0000\n",
      "Epoch 4/1000\n",
      "3195/3195 [==============================] - 0s 34us/step - loss: 20615187.2930 - mean_squared_error: 20615186.0000 - val_loss: 20715997.8561 - val_mean_squared_error: 20716000.0000\n",
      "Epoch 5/1000\n",
      "3195/3195 [==============================] - 0s 36us/step - loss: 18645616.6103 - mean_squared_error: 18645616.0000 - val_loss: 18832184.6546 - val_mean_squared_error: 18832182.0000\n",
      "Epoch 6/1000\n",
      "3195/3195 [==============================] - 0s 36us/step - loss: 17378125.1108 - mean_squared_error: 17378126.0000 - val_loss: 17793275.3830 - val_mean_squared_error: 17793276.0000\n",
      "Epoch 7/1000\n",
      "3195/3195 [==============================] - 0s 36us/step - loss: 16316329.6266 - mean_squared_error: 16316331.0000 - val_loss: 16909346.6383 - val_mean_squared_error: 16909346.0000\n",
      "Epoch 8/1000\n",
      "3195/3195 [==============================] - 0s 35us/step - loss: 15413974.5277 - mean_squared_error: 15413976.0000 - val_loss: 16195593.1176 - val_mean_squared_error: 16195592.0000\n",
      "Epoch 9/1000\n",
      "3195/3195 [==============================] - 0s 37us/step - loss: 14620258.6563 - mean_squared_error: 14620257.0000 - val_loss: 15494439.3955 - val_mean_squared_error: 15494439.0000\n",
      "Epoch 10/1000\n",
      "3195/3195 [==============================] - 0s 38us/step - loss: 13944144.1158 - mean_squared_error: 13944145.0000 - val_loss: 14939106.8573 - val_mean_squared_error: 14939108.0000\n",
      "Epoch 11/1000\n",
      "3195/3195 [==============================] - 0s 38us/step - loss: 13279460.1146 - mean_squared_error: 13279460.0000 - val_loss: 14431499.0814 - val_mean_squared_error: 14431500.0000\n",
      "Epoch 12/1000\n",
      "3195/3195 [==============================] - 0s 35us/step - loss: 12644444.6147 - mean_squared_error: 12644444.0000 - val_loss: 13811079.4706 - val_mean_squared_error: 13811079.0000\n",
      "Epoch 13/1000\n",
      "3195/3195 [==============================] - 0s 34us/step - loss: 12040069.6106 - mean_squared_error: 12040068.0000 - val_loss: 13359769.0275 - val_mean_squared_error: 13359769.0000\n",
      "Epoch 14/1000\n",
      "3195/3195 [==============================] - 0s 34us/step - loss: 11455516.8695 - mean_squared_error: 11455516.0000 - val_loss: 12713847.5770 - val_mean_squared_error: 12713848.0000\n",
      "Epoch 15/1000\n",
      "3195/3195 [==============================] - 0s 34us/step - loss: 10839972.9496 - mean_squared_error: 10839972.0000 - val_loss: 12228740.6834 - val_mean_squared_error: 12228741.0000\n",
      "Epoch 16/1000\n",
      "3195/3195 [==============================] - 0s 34us/step - loss: 10248211.3064 - mean_squared_error: 10248212.0000 - val_loss: 11628914.1252 - val_mean_squared_error: 11628914.0000\n",
      "Epoch 17/1000\n",
      "3195/3195 [==============================] - 0s 36us/step - loss: 9704182.9800 - mean_squared_error: 9704184.0000 - val_loss: 11037355.6095 - val_mean_squared_error: 11037355.0000\n",
      "Epoch 18/1000\n",
      "3195/3195 [==============================] - 0s 37us/step - loss: 9135572.8041 - mean_squared_error: 9135572.0000 - val_loss: 10562451.0238 - val_mean_squared_error: 10562451.0000\n",
      "Epoch 19/1000\n",
      "3195/3195 [==============================] - 0s 34us/step - loss: 8613236.7742 - mean_squared_error: 8613237.0000 - val_loss: 10030593.4299 - val_mean_squared_error: 10030593.0000\n",
      "Epoch 20/1000\n",
      "3195/3195 [==============================] - 0s 37us/step - loss: 8128370.1820 - mean_squared_error: 8128369.5000 - val_loss: 9546828.9925 - val_mean_squared_error: 9546829.0000\n",
      "Epoch 21/1000\n",
      "3195/3195 [==============================] - 0s 35us/step - loss: 7713466.0360 - mean_squared_error: 7713466.0000 - val_loss: 9104876.2028 - val_mean_squared_error: 9104876.0000\n",
      "Epoch 22/1000\n",
      "3195/3195 [==============================] - 0s 34us/step - loss: 7327342.7870 - mean_squared_error: 7327342.0000 - val_loss: 8743985.2553 - val_mean_squared_error: 8743985.0000\n",
      "Epoch 23/1000\n",
      "3195/3195 [==============================] - 0s 36us/step - loss: 7009997.9621 - mean_squared_error: 7009997.5000 - val_loss: 8458934.2340 - val_mean_squared_error: 8458935.0000\n",
      "Epoch 24/1000\n",
      "3195/3195 [==============================] - 0s 35us/step - loss: 6712538.6751 - mean_squared_error: 6712539.0000 - val_loss: 8298967.9230 - val_mean_squared_error: 8298968.5000\n",
      "Epoch 25/1000\n",
      "3195/3195 [==============================] - 0s 34us/step - loss: 6532439.7883 - mean_squared_error: 6532439.5000 - val_loss: 8084203.3736 - val_mean_squared_error: 8084204.0000\n",
      "Epoch 26/1000\n",
      "3195/3195 [==============================] - 0s 35us/step - loss: 6326610.1029 - mean_squared_error: 6326610.0000 - val_loss: 7900383.6533 - val_mean_squared_error: 7900383.5000\n",
      "Epoch 27/1000\n",
      "3195/3195 [==============================] - 0s 34us/step - loss: 6221295.5725 - mean_squared_error: 6221295.0000 - val_loss: 7674896.7722 - val_mean_squared_error: 7674896.5000\n",
      "Epoch 28/1000\n",
      "3195/3195 [==============================] - 0s 35us/step - loss: 6080640.5133 - mean_squared_error: 6080640.0000 - val_loss: 7558322.5488 - val_mean_squared_error: 7558323.5000\n",
      "Epoch 29/1000\n",
      "3195/3195 [==============================] - 0s 38us/step - loss: 5997167.1319 - mean_squared_error: 5997167.0000 - val_loss: 7479561.7284 - val_mean_squared_error: 7479561.5000\n",
      "Epoch 30/1000\n",
      "3195/3195 [==============================] - 0s 36us/step - loss: 5916453.1541 - mean_squared_error: 5916453.5000 - val_loss: 7457490.1252 - val_mean_squared_error: 7457490.0000\n",
      "Epoch 31/1000\n",
      "3195/3195 [==============================] - 0s 37us/step - loss: 5797272.8299 - mean_squared_error: 5797273.5000 - val_loss: 7310028.1477 - val_mean_squared_error: 7310028.0000\n",
      "Epoch 32/1000\n",
      "3195/3195 [==============================] - 0s 36us/step - loss: 5727757.5717 - mean_squared_error: 5727757.5000 - val_loss: 7211767.9474 - val_mean_squared_error: 7211767.5000\n",
      "Epoch 33/1000\n",
      "3195/3195 [==============================] - 0s 35us/step - loss: 5640816.5568 - mean_squared_error: 5640816.5000 - val_loss: 7162093.9894 - val_mean_squared_error: 7162094.5000\n",
      "Epoch 34/1000\n",
      "3195/3195 [==============================] - 0s 35us/step - loss: 5580118.3211 - mean_squared_error: 5580118.0000 - val_loss: 7094008.1615 - val_mean_squared_error: 7094008.5000\n",
      "Epoch 35/1000\n",
      "3195/3195 [==============================] - 0s 34us/step - loss: 5507157.4462 - mean_squared_error: 5507157.5000 - val_loss: 6997681.2935 - val_mean_squared_error: 6997682.0000\n",
      "Epoch 36/1000\n",
      "3195/3195 [==============================] - 0s 34us/step - loss: 5452974.6504 - mean_squared_error: 5452974.5000 - val_loss: 6974911.1809 - val_mean_squared_error: 6974911.5000\n",
      "Epoch 37/1000\n",
      "3195/3195 [==============================] - 0s 36us/step - loss: 5374219.3210 - mean_squared_error: 5374219.0000 - val_loss: 6912679.2159 - val_mean_squared_error: 6912679.0000\n",
      "Epoch 38/1000\n"
     ]
    },
    {
     "name": "stdout",
     "output_type": "stream",
     "text": [
      "3195/3195 [==============================] - 0s 38us/step - loss: 5322601.5590 - mean_squared_error: 5322601.0000 - val_loss: 6835235.5538 - val_mean_squared_error: 6835235.0000\n",
      "Epoch 39/1000\n",
      "3195/3195 [==============================] - 0s 37us/step - loss: 5326049.8875 - mean_squared_error: 5326050.0000 - val_loss: 6783829.0338 - val_mean_squared_error: 6783829.5000\n",
      "Epoch 40/1000\n",
      "3195/3195 [==============================] - 0s 36us/step - loss: 5234196.6166 - mean_squared_error: 5234197.0000 - val_loss: 6726920.5250 - val_mean_squared_error: 6726920.0000\n",
      "Epoch 41/1000\n",
      "3195/3195 [==============================] - 0s 34us/step - loss: 5188838.3992 - mean_squared_error: 5188838.5000 - val_loss: 6728130.6008 - val_mean_squared_error: 6728131.0000\n",
      "Epoch 42/1000\n",
      "3195/3195 [==============================] - 0s 35us/step - loss: 5162855.5069 - mean_squared_error: 5162855.0000 - val_loss: 6629486.9844 - val_mean_squared_error: 6629487.5000\n",
      "Epoch 43/1000\n",
      "3195/3195 [==============================] - 0s 34us/step - loss: 5085394.7844 - mean_squared_error: 5085395.5000 - val_loss: 6605471.1646 - val_mean_squared_error: 6605471.0000\n",
      "Epoch 44/1000\n",
      "3195/3195 [==============================] - 0s 34us/step - loss: 5029990.5848 - mean_squared_error: 5029990.0000 - val_loss: 6677146.4481 - val_mean_squared_error: 6677146.5000\n",
      "Epoch 45/1000\n",
      "3195/3195 [==============================] - 0s 35us/step - loss: 5012342.3711 - mean_squared_error: 5012342.0000 - val_loss: 6525693.0720 - val_mean_squared_error: 6525693.0000\n",
      "Epoch 46/1000\n",
      "3195/3195 [==============================] - 0s 34us/step - loss: 4965202.4886 - mean_squared_error: 4965202.5000 - val_loss: 6475605.4549 - val_mean_squared_error: 6475605.5000\n",
      "Epoch 47/1000\n",
      "3195/3195 [==============================] - 0s 36us/step - loss: 4918192.3088 - mean_squared_error: 4918193.0000 - val_loss: 6412069.8511 - val_mean_squared_error: 6412069.5000\n",
      "Epoch 48/1000\n",
      "3195/3195 [==============================] - 0s 34us/step - loss: 4892228.9391 - mean_squared_error: 4892229.0000 - val_loss: 6404799.6108 - val_mean_squared_error: 6404799.5000\n",
      "Epoch 49/1000\n",
      "3195/3195 [==============================] - 0s 34us/step - loss: 4834404.6820 - mean_squared_error: 4834404.5000 - val_loss: 6458969.3442 - val_mean_squared_error: 6458969.5000\n",
      "Epoch 50/1000\n",
      "3195/3195 [==============================] - 0s 35us/step - loss: 4801859.4690 - mean_squared_error: 4801858.5000 - val_loss: 6316955.7353 - val_mean_squared_error: 6316956.0000\n",
      "Epoch 51/1000\n",
      "3195/3195 [==============================] - 0s 34us/step - loss: 4749566.8255 - mean_squared_error: 4749566.5000 - val_loss: 6347738.0507 - val_mean_squared_error: 6347737.5000\n",
      "Epoch 52/1000\n",
      "3195/3195 [==============================] - 0s 35us/step - loss: 4764046.8676 - mean_squared_error: 4764047.5000 - val_loss: 6319593.9856 - val_mean_squared_error: 6319594.0000\n",
      "Epoch 53/1000\n",
      "3195/3195 [==============================] - 0s 37us/step - loss: 4719276.1396 - mean_squared_error: 4719276.5000 - val_loss: 6228233.4762 - val_mean_squared_error: 6228233.5000\n",
      "Epoch 54/1000\n",
      "3195/3195 [==============================] - 0s 37us/step - loss: 4670205.4630 - mean_squared_error: 4670205.0000 - val_loss: 6208573.0651 - val_mean_squared_error: 6208573.0000\n",
      "Epoch 55/1000\n",
      "3195/3195 [==============================] - 0s 36us/step - loss: 4659062.4050 - mean_squared_error: 4659062.0000 - val_loss: 6170565.1990 - val_mean_squared_error: 6170565.0000\n",
      "Epoch 56/1000\n",
      "3195/3195 [==============================] - 0s 37us/step - loss: 4640938.8634 - mean_squared_error: 4640939.5000 - val_loss: 6164994.1633 - val_mean_squared_error: 6164994.0000\n",
      "Epoch 57/1000\n",
      "3195/3195 [==============================] - 0s 35us/step - loss: 4629651.8937 - mean_squared_error: 4629652.0000 - val_loss: 6105681.5788 - val_mean_squared_error: 6105681.5000\n",
      "Epoch 58/1000\n",
      "3195/3195 [==============================] - 0s 34us/step - loss: 4568756.8260 - mean_squared_error: 4568756.5000 - val_loss: 6116875.9168 - val_mean_squared_error: 6116876.0000\n",
      "Epoch 59/1000\n",
      "3195/3195 [==============================] - 0s 34us/step - loss: 4560972.8469 - mean_squared_error: 4560972.5000 - val_loss: 6210999.0820 - val_mean_squared_error: 6210999.0000\n",
      "Epoch 60/1000\n",
      "3195/3195 [==============================] - 0s 33us/step - loss: 4522360.7030 - mean_squared_error: 4522361.0000 - val_loss: 6023189.3217 - val_mean_squared_error: 6023190.0000\n",
      "Epoch 61/1000\n",
      "3195/3195 [==============================] - 0s 36us/step - loss: 4487975.6609 - mean_squared_error: 4487976.0000 - val_loss: 6046248.2985 - val_mean_squared_error: 6046248.5000\n",
      "Epoch 62/1000\n",
      "3195/3195 [==============================] - 0s 36us/step - loss: 4470868.7764 - mean_squared_error: 4470868.5000 - val_loss: 6259143.4474 - val_mean_squared_error: 6259143.5000\n",
      "Epoch 63/1000\n",
      "3195/3195 [==============================] - 0s 34us/step - loss: 4522391.5272 - mean_squared_error: 4522391.5000 - val_loss: 5964518.7647 - val_mean_squared_error: 5964519.5000\n",
      "Epoch 64/1000\n",
      "3195/3195 [==============================] - 0s 34us/step - loss: 4422954.3994 - mean_squared_error: 4422954.5000 - val_loss: 5949229.7028 - val_mean_squared_error: 5949230.0000\n",
      "Epoch 65/1000\n",
      "3195/3195 [==============================] - 0s 36us/step - loss: 4482974.2454 - mean_squared_error: 4482974.0000 - val_loss: 6077905.7728 - val_mean_squared_error: 6077906.5000\n",
      "Epoch 66/1000\n",
      "3195/3195 [==============================] - 0s 34us/step - loss: 4451271.3538 - mean_squared_error: 4451271.0000 - val_loss: 5907894.1996 - val_mean_squared_error: 5907894.5000\n",
      "Epoch 67/1000\n",
      "3195/3195 [==============================] - 0s 34us/step - loss: 4387439.0133 - mean_squared_error: 4387438.5000 - val_loss: 5858523.6208 - val_mean_squared_error: 5858524.0000\n",
      "Epoch 68/1000\n",
      "3195/3195 [==============================] - 0s 34us/step - loss: 4398910.1319 - mean_squared_error: 4398910.0000 - val_loss: 5939534.0864 - val_mean_squared_error: 5939534.5000\n",
      "Epoch 69/1000\n",
      "3195/3195 [==============================] - 0s 34us/step - loss: 4368966.9097 - mean_squared_error: 4368967.5000 - val_loss: 5888917.3360 - val_mean_squared_error: 5888917.0000\n",
      "Epoch 70/1000\n",
      "3195/3195 [==============================] - 0s 34us/step - loss: 4353335.5662 - mean_squared_error: 4353336.0000 - val_loss: 5924972.5063 - val_mean_squared_error: 5924972.5000\n",
      "Epoch 71/1000\n",
      "3195/3195 [==============================] - 0s 34us/step - loss: 4351762.5072 - mean_squared_error: 4351762.0000 - val_loss: 5817600.6546 - val_mean_squared_error: 5817601.0000\n",
      "Epoch 72/1000\n",
      "3195/3195 [==============================] - 0s 34us/step - loss: 4323225.6612 - mean_squared_error: 4323226.0000 - val_loss: 5997499.5738 - val_mean_squared_error: 5997499.5000\n",
      "Epoch 73/1000\n",
      "3195/3195 [==============================] - 0s 35us/step - loss: 4298458.8945 - mean_squared_error: 4298458.5000 - val_loss: 5829982.1884 - val_mean_squared_error: 5829982.5000\n",
      "Epoch 74/1000\n",
      "3195/3195 [==============================] - 0s 37us/step - loss: 4258954.4978 - mean_squared_error: 4258955.0000 - val_loss: 5835687.2966 - val_mean_squared_error: 5835687.5000\n",
      "Epoch 75/1000\n",
      "3195/3195 [==============================] - 0s 38us/step - loss: 4265216.4383 - mean_squared_error: 4265216.5000 - val_loss: 5802200.6777 - val_mean_squared_error: 5802200.5000\n",
      "Epoch 76/1000\n",
      "3195/3195 [==============================] - 0s 37us/step - loss: 4214139.4496 - mean_squared_error: 4214140.0000 - val_loss: 5843266.1227 - val_mean_squared_error: 5843265.5000\n",
      "Epoch 77/1000\n",
      "3195/3195 [==============================] - 0s 33us/step - loss: 4238606.1479 - mean_squared_error: 4238606.0000 - val_loss: 5730757.1258 - val_mean_squared_error: 5730757.0000\n",
      "Epoch 78/1000\n",
      "3195/3195 [==============================] - 0s 35us/step - loss: 4170584.0685 - mean_squared_error: 4170584.5000 - val_loss: 5825411.5413 - val_mean_squared_error: 5825411.5000\n",
      "Epoch 79/1000\n",
      "3195/3195 [==============================] - 0s 34us/step - loss: 4181202.3329 - mean_squared_error: 4181202.2500 - val_loss: 5722741.8542 - val_mean_squared_error: 5722742.0000\n",
      "Epoch 80/1000\n",
      "3195/3195 [==============================] - 0s 33us/step - loss: 4170765.4100 - mean_squared_error: 4170765.5000 - val_loss: 5694423.2359 - val_mean_squared_error: 5694423.0000\n"
     ]
    },
    {
     "name": "stdout",
     "output_type": "stream",
     "text": [
      "Epoch 81/1000\n",
      "3195/3195 [==============================] - 0s 34us/step - loss: 4172303.5028 - mean_squared_error: 4172303.2500 - val_loss: 5662385.7772 - val_mean_squared_error: 5662386.0000\n",
      "Epoch 00081: early stopping\n"
     ]
    }
   ],
   "source": [
    "# X_train_train, X_valid, y_train_train, y_valid = train_test_split(X_train, y_train, random_state=42)\n",
    "early_stopping = EarlyStopping(monitor='loss', patience=3, mode='min', verbose=1)\n",
    "\n",
    "nnmodel = keras.models.Sequential()\n",
    "nnmodel.add(Dense(1000, activation=\"relu\", input_shape=X_train.shape[1:]))\n",
    "nnmodel.add(Dense(100,activation=\"relu\"))\n",
    "nnmodel.add(Dense(50,activation=\"relu\"))\n",
    "nnmodel.add(Dense(1))\n",
    "nnmodel.summary()\n",
    "nnmodel.compile(loss= \"mean_squared_error\" , optimizer=\"adam\", metrics=[\"mean_squared_error\"])\n",
    "nnh = nnmodel.fit(X_train, y_train, epochs=1000, batch_size=128, validation_split=0.2, callbacks=[early_stopping])\n"
   ]
  },
  {
   "cell_type": "code",
   "execution_count": 57,
   "metadata": {},
   "outputs": [
    {
     "data": {
      "image/png": "[encoded data removed]",
      "text/plain": [
       "<Figure size 576x360 with 1 Axes>"
      ]
     },
     "metadata": {
      "needs_background": "light"
     },
     "output_type": "display_data"
    }
   ],
   "source": [
    "pd.DataFrame(nnh.history).plot(figsize=(8, 5))\n",
    "plt.grid(True)\n",
    "plt.show()"
   ]
  },
  {
   "cell_type": "code",
   "execution_count": null,
   "metadata": {},
   "outputs": [],
   "source": []
  },
  {
   "cell_type": "code",
   "execution_count": 21,
   "metadata": {},
   "outputs": [],
   "source": [
    "def build_model(n_h1=1,n_h2=1, n_neurons=1000, l1_penalty = 0.01, dropout_rate = 0,  learning_rate=3e-3, input_shape =X_train.shape[1:], dropout = False, bn = False):\n",
    "    model = keras.models.Sequential() \n",
    "    for layer in range(n_h1):\n",
    "        if layer == 0:\n",
    "                model.add(Dense(int(n_neurons/n_h1), input_shape=input_shape, kernel_regularizer = l1(l1_penalty)))\n",
    "        else:\n",
    "            model.add(Dense(int(n_neurons/n_h1), kernel_regularizer = l1(l1_penalty)))\n",
    "        if bn:\n",
    "            model.add(BatchNormalization())\n",
    "        model.add(Activation(activations.relu))  \n",
    "        if dropout:\n",
    "            model.add(Dropout(p = dropout_rate))\n",
    "    for layer in range(n_h2):\n",
    "        model.add(Dense(int(n_neurons/10/n_h2), kernel_regularizer = l1(l1_penalty)))\n",
    "        if bn:\n",
    "            model.add(BatchNormalization())\n",
    "        model.add(Activation(activations.relu))  \n",
    "        if dropout:\n",
    "            model.add(Dropout(p = dropout_rate))        \n",
    "    model.add(keras.layers.Dense(1))\n",
    "    optimizer = keras.optimizers.Adam(lr=learning_rate)\n",
    "    model.compile(loss=\"mean_squared_error\", optimizer=optimizer, metrics=[\"mean_squared_error\"])\n",
    "    return model"
   ]
  },
  {
   "cell_type": "code",
   "execution_count": 22,
   "metadata": {},
   "outputs": [
    {
     "name": "stdout",
     "output_type": "stream",
     "text": [
      "Fitting 5 folds for each of 10 candidates, totalling 50 fits\n"
     ]
    },
    {
     "name": "stderr",
     "output_type": "stream",
     "text": [
      "[Parallel(n_jobs=-1)]: Using backend LokyBackend with 8 concurrent workers.\n",
      "E:\\Anaconda\\lib\\site-packages\\joblib\\externals\\loky\\process_executor.py:706: UserWarning: A worker stopped while some jobs were given to the executor. This can be caused by a too short worker timeout or by a memory leak.\n",
      "  \"timeout or by a memory leak.\", UserWarning\n",
      "[Parallel(n_jobs=-1)]: Done  34 tasks      | elapsed:  2.1min\n",
      "[Parallel(n_jobs=-1)]: Done  50 out of  50 | elapsed:  2.9min finished\n"
     ]
    },
    {
     "data": {
      "text/plain": [
       "{'n_h2': 4,\n",
       " 'n_h1': 3,\n",
       " 'l1_penalty': 0.3,\n",
       " 'dropout_rate': 0.4,\n",
       " 'dropout': False,\n",
       " 'bn': False}"
      ]
     },
     "execution_count": 22,
     "metadata": {},
     "output_type": "execute_result"
    }
   ],
   "source": [
    "early_stopping = EarlyStopping(monitor='loss', patience=3, mode='min', verbose=1)\n",
    "callbacks = [early_stopping]\n",
    "\n",
    "nn2 = KerasRegressor(build_fn = build_model, epochs=20, batch_size=128, verbose=0)\n",
    "\n",
    "param_grid = {\n",
    "    \"n_h1\": [1,2,3],\n",
    "    \"n_h2\": [1,2,3,4,5],\n",
    "    'dropout_rate': [0.2, 0.3, 0.4, 0.5],  \n",
    "    'l1_penalty': [0, 0.3],\n",
    "    'dropout': [True,False],\n",
    "    'bn': [True,False]\n",
    "}\n",
    "nn2_model = RandomizedSearchCV(estimator=nn2, cv=kfold, param_distributions=param_grid, verbose=1, scoring='r2', n_iter=10, n_jobs=-1)\n",
    "nn2_model.fit(X_train, y_train)\n",
    "nn2_model.best_params_"
   ]
  },
  {
   "cell_type": "code",
   "execution_count": 23,
   "metadata": {},
   "outputs": [
    {
     "name": "stdout",
     "output_type": "stream",
     "text": [
      "Train on 3195 samples, validate on 799 samples\n",
      "Epoch 1/200\n",
      "3195/3195 [==============================] - 1s 193us/step - loss: 45587339.1925 - mean_squared_error: 45583728.0000 - val_loss: 44112019.2441 - val_mean_squared_error: 44108588.0000\n",
      "Epoch 2/200\n",
      "3195/3195 [==============================] - 0s 54us/step - loss: 33144396.7274 - mean_squared_error: 33140944.0000 - val_loss: 24495477.5444 - val_mean_squared_error: 24491920.0000\n",
      "Epoch 3/200\n",
      "3195/3195 [==============================] - 0s 55us/step - loss: 19822024.5966 - mean_squared_error: 19818650.0000 - val_loss: 18894118.7121 - val_mean_squared_error: 18890836.0000\n",
      "Epoch 4/200\n",
      "3195/3195 [==============================] - 0s 58us/step - loss: 16833730.9834 - mean_squared_error: 16830488.0000 - val_loss: 16966714.8974 - val_mean_squared_error: 16963476.0000\n",
      "Epoch 5/200\n",
      "3195/3195 [==============================] - 0s 55us/step - loss: 15118979.9850 - mean_squared_error: 15115704.0000 - val_loss: 15740249.5119 - val_mean_squared_error: 15736919.0000\n",
      "Epoch 6/200\n",
      "3195/3195 [==============================] - 0s 58us/step - loss: 13690753.8078 - mean_squared_error: 13687379.0000 - val_loss: 14266946.6671 - val_mean_squared_error: 14263529.0000\n",
      "Epoch 7/200\n",
      "3195/3195 [==============================] - 0s 54us/step - loss: 12191718.0848 - mean_squared_error: 12188250.0000 - val_loss: 13569205.9224 - val_mean_squared_error: 13565661.0000\n",
      "Epoch 8/200\n",
      "3195/3195 [==============================] - 0s 54us/step - loss: 10814680.6995 - mean_squared_error: 10811103.0000 - val_loss: 11582242.5982 - val_mean_squared_error: 11578613.0000\n",
      "Epoch 9/200\n",
      "3195/3195 [==============================] - 0s 55us/step - loss: 9242754.8729 - mean_squared_error: 9239072.0000 - val_loss: 10154688.2947 - val_mean_squared_error: 10150961.0000\n",
      "Epoch 10/200\n",
      "3195/3195 [==============================] - 0s 55us/step - loss: 8168963.7462 - mean_squared_error: 8165190.0000 - val_loss: 9141663.1502 - val_mean_squared_error: 9137858.0000\n",
      "Epoch 11/200\n",
      "3195/3195 [==============================] - 0s 54us/step - loss: 7170252.3674 - mean_squared_error: 7166422.0000 - val_loss: 8420223.8855 - val_mean_squared_error: 8416376.0000\n",
      "Epoch 12/200\n",
      "3195/3195 [==============================] - 0s 55us/step - loss: 6570013.2951 - mean_squared_error: 6566145.5000 - val_loss: 8058820.8260 - val_mean_squared_error: 8054932.0000\n",
      "Epoch 13/200\n",
      "3195/3195 [==============================] - 0s 52us/step - loss: 6267958.6156 - mean_squared_error: 6264061.5000 - val_loss: 7852708.4862 - val_mean_squared_error: 7848800.0000\n",
      "Epoch 14/200\n",
      "3195/3195 [==============================] - 0s 53us/step - loss: 6027936.9845 - mean_squared_error: 6024015.0000 - val_loss: 8176675.8166 - val_mean_squared_error: 8172733.5000\n",
      "Epoch 15/200\n",
      "3195/3195 [==============================] - 0s 52us/step - loss: 5903150.8455 - mean_squared_error: 5899209.0000 - val_loss: 7402759.9969 - val_mean_squared_error: 7398810.0000\n",
      "Epoch 16/200\n",
      "3195/3195 [==============================] - 0s 52us/step - loss: 5650754.9889 - mean_squared_error: 5646802.0000 - val_loss: 7220791.7428 - val_mean_squared_error: 7216820.5000\n",
      "Epoch 17/200\n",
      "3195/3195 [==============================] - 0s 53us/step - loss: 5538641.4122 - mean_squared_error: 5534665.0000 - val_loss: 7100053.0488 - val_mean_squared_error: 7096060.5000\n",
      "Epoch 18/200\n",
      "3195/3195 [==============================] - 0s 61us/step - loss: 5366230.4380 - mean_squared_error: 5362233.0000 - val_loss: 6902207.3029 - val_mean_squared_error: 6898196.0000\n",
      "Epoch 19/200\n",
      "3195/3195 [==============================] - 0s 55us/step - loss: 5299398.4764 - mean_squared_error: 5295380.5000 - val_loss: 6954605.3880 - val_mean_squared_error: 6950575.5000\n",
      "Epoch 20/200\n",
      "3195/3195 [==============================] - 0s 53us/step - loss: 5186765.2692 - mean_squared_error: 5182728.0000 - val_loss: 6784619.8323 - val_mean_squared_error: 6780559.0000\n",
      "Epoch 21/200\n",
      "3195/3195 [==============================] - 0s 53us/step - loss: 5016896.4288 - mean_squared_error: 5012834.0000 - val_loss: 6626426.7284 - val_mean_squared_error: 6622351.5000\n",
      "Epoch 22/200\n",
      "3195/3195 [==============================] - 0s 54us/step - loss: 4874310.5216 - mean_squared_error: 4870228.5000 - val_loss: 6387540.0607 - val_mean_squared_error: 6383453.0000\n",
      "Epoch 23/200\n",
      "3195/3195 [==============================] - 0s 52us/step - loss: 4861722.2548 - mean_squared_error: 4857618.5000 - val_loss: 6691687.2772 - val_mean_squared_error: 6687561.5000\n",
      "Epoch 24/200\n",
      "3195/3195 [==============================] - 0s 55us/step - loss: 4763638.2405 - mean_squared_error: 4759508.5000 - val_loss: 6864555.4950 - val_mean_squared_error: 6860435.5000\n",
      "Epoch 25/200\n",
      "3195/3195 [==============================] - 0s 52us/step - loss: 4620525.8749 - mean_squared_error: 4616386.5000 - val_loss: 6279490.4906 - val_mean_squared_error: 6275338.5000\n",
      "Epoch 26/200\n",
      "3195/3195 [==============================] - 0s 54us/step - loss: 4549587.3685 - mean_squared_error: 4545420.5000 - val_loss: 6217455.0426 - val_mean_squared_error: 6213285.5000\n",
      "Epoch 27/200\n",
      "3195/3195 [==============================] - 0s 53us/step - loss: 4353863.9955 - mean_squared_error: 4349677.0000 - val_loss: 5970599.3517 - val_mean_squared_error: 5966394.5000\n",
      "Epoch 28/200\n",
      "3195/3195 [==============================] - 0s 54us/step - loss: 4294718.5040 - mean_squared_error: 4290513.0000 - val_loss: 5995772.2071 - val_mean_squared_error: 5991554.0000\n",
      "Epoch 29/200\n",
      "3195/3195 [==============================] - 0s 54us/step - loss: 4324412.3615 - mean_squared_error: 4320174.5000 - val_loss: 5795929.5106 - val_mean_squared_error: 5791693.5000\n",
      "Epoch 30/200\n",
      "3195/3195 [==============================] - 0s 56us/step - loss: 4253395.2985 - mean_squared_error: 4249145.5000 - val_loss: 5892501.7891 - val_mean_squared_error: 5888245.0000\n",
      "Epoch 31/200\n",
      "3195/3195 [==============================] - 0s 54us/step - loss: 4297173.7243 - mean_squared_error: 4292903.0000 - val_loss: 5911528.8429 - val_mean_squared_error: 5907247.0000\n",
      "Epoch 32/200\n",
      "3195/3195 [==============================] - 0s 55us/step - loss: 4073753.9354 - mean_squared_error: 4069459.7500 - val_loss: 5707194.1220 - val_mean_squared_error: 5702892.0000\n",
      "Epoch 33/200\n",
      "3195/3195 [==============================] - 0s 58us/step - loss: 4201960.5263 - mean_squared_error: 4197642.5000 - val_loss: 5488844.5951 - val_mean_squared_error: 5484521.5000\n",
      "Epoch 34/200\n",
      "3195/3195 [==============================] - 0s 54us/step - loss: 3981435.1551 - mean_squared_error: 3977105.5000 - val_loss: 5428291.0363 - val_mean_squared_error: 5423948.5000\n",
      "Epoch 35/200\n",
      "3195/3195 [==============================] - 0s 54us/step - loss: 3916433.4144 - mean_squared_error: 3912081.5000 - val_loss: 5416406.5476 - val_mean_squared_error: 5412047.5000\n",
      "Epoch 36/200\n",
      "3195/3195 [==============================] - 0s 56us/step - loss: 4080824.5143 - mean_squared_error: 4076459.5000 - val_loss: 5401829.4850 - val_mean_squared_error: 5397455.5000\n",
      "Epoch 37/200\n",
      "3195/3195 [==============================] - 0s 54us/step - loss: 3831471.2414 - mean_squared_error: 3827088.2500 - val_loss: 5330746.3767 - val_mean_squared_error: 5326353.5000\n",
      "Epoch 38/200\n",
      "3195/3195 [==============================] - 0s 56us/step - loss: 3751175.9439 - mean_squared_error: 3746781.5000 - val_loss: 5389572.4912 - val_mean_squared_error: 5385179.5000\n",
      "Epoch 39/200\n",
      "3195/3195 [==============================] - 0s 53us/step - loss: 3743046.1071 - mean_squared_error: 3738644.5000 - val_loss: 5287050.0588 - val_mean_squared_error: 5282631.0000\n",
      "Epoch 40/200\n",
      "3195/3195 [==============================] - 0s 53us/step - loss: 3719350.3651 - mean_squared_error: 3714931.0000 - val_loss: 5191179.2547 - val_mean_squared_error: 5186751.5000\n",
      "Epoch 41/200\n",
      "3195/3195 [==============================] - 0s 53us/step - loss: 3722716.9192 - mean_squared_error: 3718286.5000 - val_loss: 5256680.4643 - val_mean_squared_error: 5252250.5000\n",
      "Epoch 42/200\n",
      "3195/3195 [==============================] - 0s 55us/step - loss: 3599351.4926 - mean_squared_error: 3594914.2500 - val_loss: 5679089.6170 - val_mean_squared_error: 5674652.5000\n",
      "Epoch 43/200\n"
     ]
    },
    {
     "name": "stdout",
     "output_type": "stream",
     "text": [
      "3195/3195 [==============================] - 0s 53us/step - loss: 3686397.4613 - mean_squared_error: 3681950.2500 - val_loss: 5077382.0369 - val_mean_squared_error: 5072927.0000\n",
      "Epoch 44/200\n",
      "3195/3195 [==============================] - 0s 57us/step - loss: 3524473.1497 - mean_squared_error: 3520013.2500 - val_loss: 4995593.8148 - val_mean_squared_error: 4991128.0000\n",
      "Epoch 45/200\n",
      "3195/3195 [==============================] - 0s 59us/step - loss: 3489090.8366 - mean_squared_error: 3484613.7500 - val_loss: 5076420.2121 - val_mean_squared_error: 5071937.0000\n",
      "Epoch 46/200\n",
      "3195/3195 [==============================] - 0s 60us/step - loss: 3578182.6655 - mean_squared_error: 3573696.0000 - val_loss: 5047394.7365 - val_mean_squared_error: 5042906.0000\n",
      "Epoch 47/200\n",
      "3195/3195 [==============================] - 0s 64us/step - loss: 3474304.5002 - mean_squared_error: 3469808.7500 - val_loss: 5069437.6083 - val_mean_squared_error: 5064934.5000\n",
      "Epoch 48/200\n",
      "3195/3195 [==============================] - 0s 57us/step - loss: 3370960.5122 - mean_squared_error: 3366447.2500 - val_loss: 4951428.0307 - val_mean_squared_error: 4946912.5000\n",
      "Epoch 49/200\n",
      "3195/3195 [==============================] - 0s 56us/step - loss: 3536834.3854 - mean_squared_error: 3532309.7500 - val_loss: 5242127.9687 - val_mean_squared_error: 5237593.0000\n",
      "Epoch 50/200\n",
      "3195/3195 [==============================] - 0s 57us/step - loss: 3347990.6881 - mean_squared_error: 3343460.7500 - val_loss: 4949441.7603 - val_mean_squared_error: 4944909.5000\n",
      "Epoch 51/200\n",
      "3195/3195 [==============================] - 0s 58us/step - loss: 3315494.0642 - mean_squared_error: 3310951.5000 - val_loss: 5307054.2222 - val_mean_squared_error: 5302496.5000\n",
      "Epoch 52/200\n",
      "3195/3195 [==============================] - 0s 58us/step - loss: 3306067.7312 - mean_squared_error: 3301509.7500 - val_loss: 4826086.8605 - val_mean_squared_error: 4821526.5000\n",
      "Epoch 53/200\n",
      "3195/3195 [==============================] - 0s 59us/step - loss: 3235633.1523 - mean_squared_error: 3231069.2500 - val_loss: 4853325.0394 - val_mean_squared_error: 4848762.0000\n",
      "Epoch 54/200\n",
      "3195/3195 [==============================] - 0s 53us/step - loss: 3322302.1628 - mean_squared_error: 3317729.5000 - val_loss: 4997217.0601 - val_mean_squared_error: 4992632.5000\n",
      "Epoch 55/200\n",
      "3195/3195 [==============================] - 0s 53us/step - loss: 3290802.5009 - mean_squared_error: 3286221.5000 - val_loss: 5038294.2829 - val_mean_squared_error: 5033700.0000\n",
      "Epoch 56/200\n",
      "3195/3195 [==============================] - 0s 53us/step - loss: 3164801.1906 - mean_squared_error: 3160206.2500 - val_loss: 4975898.5238 - val_mean_squared_error: 4971306.5000\n",
      "Epoch 57/200\n",
      "3195/3195 [==============================] - 0s 54us/step - loss: 3153372.7875 - mean_squared_error: 3148767.7500 - val_loss: 4836340.6079 - val_mean_squared_error: 4831732.0000\n",
      "Epoch 58/200\n",
      "3195/3195 [==============================] - 0s 54us/step - loss: 3175537.0025 - mean_squared_error: 3170923.0000 - val_loss: 4769726.7553 - val_mean_squared_error: 4765114.0000\n",
      "Epoch 59/200\n",
      "3195/3195 [==============================] - 0s 54us/step - loss: 3164936.2166 - mean_squared_error: 3160313.0000 - val_loss: 4830012.9712 - val_mean_squared_error: 4825378.0000\n",
      "Epoch 60/200\n",
      "3195/3195 [==============================] - 0s 55us/step - loss: 3159821.7879 - mean_squared_error: 3155189.2500 - val_loss: 4932024.9725 - val_mean_squared_error: 4927387.0000\n",
      "Epoch 61/200\n",
      "3195/3195 [==============================] - 0s 55us/step - loss: 3182327.2249 - mean_squared_error: 3177691.2500 - val_loss: 4781586.1827 - val_mean_squared_error: 4776948.0000\n",
      "Epoch 62/200\n",
      "3195/3195 [==============================] - 0s 54us/step - loss: 3271178.4949 - mean_squared_error: 3266533.0000 - val_loss: 4848959.1258 - val_mean_squared_error: 4844313.0000\n",
      "Epoch 63/200\n",
      "3195/3195 [==============================] - 0s 53us/step - loss: 3039548.2328 - mean_squared_error: 3034891.7500 - val_loss: 4794521.5313 - val_mean_squared_error: 4789855.0000\n",
      "Epoch 64/200\n",
      "3195/3195 [==============================] - 0s 54us/step - loss: 3022697.2092 - mean_squared_error: 3018030.7500 - val_loss: 4761370.7810 - val_mean_squared_error: 4756698.5000\n",
      "Epoch 65/200\n",
      "3195/3195 [==============================] - 0s 56us/step - loss: 3001836.7631 - mean_squared_error: 2997159.2500 - val_loss: 4789506.1799 - val_mean_squared_error: 4784827.0000\n",
      "Epoch 66/200\n",
      "3195/3195 [==============================] - 0s 53us/step - loss: 2968623.0831 - mean_squared_error: 2963938.2500 - val_loss: 4746640.5488 - val_mean_squared_error: 4741954.0000\n",
      "Epoch 67/200\n",
      "3195/3195 [==============================] - 0s 53us/step - loss: 2931460.8577 - mean_squared_error: 2926762.2500 - val_loss: 4715433.9315 - val_mean_squared_error: 4710728.5000\n",
      "Epoch 68/200\n",
      "3195/3195 [==============================] - 0s 53us/step - loss: 2956068.6962 - mean_squared_error: 2951364.7500 - val_loss: 4989691.4431 - val_mean_squared_error: 4984979.5000\n",
      "Epoch 69/200\n",
      "3195/3195 [==============================] - 0s 53us/step - loss: 2915620.1635 - mean_squared_error: 2910904.7500 - val_loss: 4738847.0056 - val_mean_squared_error: 4734129.5000\n",
      "Epoch 70/200\n",
      "3195/3195 [==============================] - 0s 51us/step - loss: 2936970.1559 - mean_squared_error: 2932246.0000 - val_loss: 4688875.7935 - val_mean_squared_error: 4684144.5000\n",
      "Epoch 71/200\n",
      "3195/3195 [==============================] - 0s 54us/step - loss: 2852229.7304 - mean_squared_error: 2847498.2500 - val_loss: 4702807.9869 - val_mean_squared_error: 4698068.5000\n",
      "Epoch 72/200\n",
      "3195/3195 [==============================] - 0s 52us/step - loss: 2868809.8930 - mean_squared_error: 2864071.5000 - val_loss: 4791199.4352 - val_mean_squared_error: 4786460.0000\n",
      "Epoch 73/200\n",
      "3195/3195 [==============================] - 0s 54us/step - loss: 2868563.3373 - mean_squared_error: 2863814.5000 - val_loss: 4779199.4321 - val_mean_squared_error: 4774447.5000\n",
      "Epoch 74/200\n",
      "3195/3195 [==============================] - 0s 56us/step - loss: 2824391.3023 - mean_squared_error: 2819636.5000 - val_loss: 4740971.1787 - val_mean_squared_error: 4736205.5000\n",
      "Epoch 75/200\n",
      "3195/3195 [==============================] - 0s 54us/step - loss: 2817768.5939 - mean_squared_error: 2813002.7500 - val_loss: 4641417.0801 - val_mean_squared_error: 4636643.0000\n",
      "Epoch 76/200\n",
      "3195/3195 [==============================] - 0s 52us/step - loss: 2758994.8319 - mean_squared_error: 2754216.5000 - val_loss: 4664052.2284 - val_mean_squared_error: 4659269.0000\n",
      "Epoch 77/200\n",
      "3195/3195 [==============================] - 0s 53us/step - loss: 2963283.6760 - mean_squared_error: 2958506.2500 - val_loss: 4685570.4330 - val_mean_squared_error: 4680792.5000\n",
      "Epoch 78/200\n",
      "3195/3195 [==============================] - 0s 53us/step - loss: 2876909.0649 - mean_squared_error: 2872125.7500 - val_loss: 4759349.4656 - val_mean_squared_error: 4754569.0000\n",
      "Epoch 79/200\n",
      "3195/3195 [==============================] - 0s 51us/step - loss: 2765772.5879 - mean_squared_error: 2760982.7500 - val_loss: 4632526.1640 - val_mean_squared_error: 4627733.0000\n",
      "Epoch 80/200\n",
      "3195/3195 [==============================] - 0s 52us/step - loss: 2698993.2522 - mean_squared_error: 2694191.5000 - val_loss: 4792545.5472 - val_mean_squared_error: 4787743.5000\n",
      "Epoch 81/200\n",
      "3195/3195 [==============================] - 0s 51us/step - loss: 2837558.8613 - mean_squared_error: 2832749.0000 - val_loss: 5033617.1258 - val_mean_squared_error: 5028810.5000\n",
      "Epoch 82/200\n",
      "3195/3195 [==============================] - 0s 52us/step - loss: 2901939.9720 - mean_squared_error: 2897128.2500 - val_loss: 4613451.0447 - val_mean_squared_error: 4608637.0000\n",
      "Epoch 83/200\n",
      "3195/3195 [==============================] - 0s 55us/step - loss: 2634125.0153 - mean_squared_error: 2629302.7500 - val_loss: 4674314.4136 - val_mean_squared_error: 4669489.0000\n",
      "Epoch 84/200\n",
      "3195/3195 [==============================] - 0s 53us/step - loss: 2635594.1247 - mean_squared_error: 2630766.5000 - val_loss: 4615116.8229 - val_mean_squared_error: 4610277.5000\n",
      "Epoch 85/200\n",
      "3195/3195 [==============================] - 0s 56us/step - loss: 2724838.9594 - mean_squared_error: 2720000.7500 - val_loss: 4812754.3830 - val_mean_squared_error: 4807906.0000\n"
     ]
    },
    {
     "name": "stdout",
     "output_type": "stream",
     "text": [
      "Epoch 86/200\n",
      "3195/3195 [==============================] - 0s 56us/step - loss: 2646728.8362 - mean_squared_error: 2641883.5000 - val_loss: 4595143.8523 - val_mean_squared_error: 4590296.5000\n",
      "Epoch 87/200\n",
      "3195/3195 [==============================] - 0s 54us/step - loss: 2594564.3975 - mean_squared_error: 2589713.2500 - val_loss: 4620184.5651 - val_mean_squared_error: 4615330.0000\n",
      "Epoch 88/200\n",
      "3195/3195 [==============================] - 0s 51us/step - loss: 2584872.0301 - mean_squared_error: 2580014.5000 - val_loss: 4577259.8508 - val_mean_squared_error: 4572402.0000\n",
      "Epoch 89/200\n",
      "3195/3195 [==============================] - 0s 54us/step - loss: 2558640.5630 - mean_squared_error: 2553776.0000 - val_loss: 4721971.2922 - val_mean_squared_error: 4717107.5000\n",
      "Epoch 90/200\n",
      "3195/3195 [==============================] - 0s 53us/step - loss: 2506006.1811 - mean_squared_error: 2501132.7500 - val_loss: 4717254.8364 - val_mean_squared_error: 4712383.0000\n",
      "Epoch 91/200\n",
      "3195/3195 [==============================] - 0s 52us/step - loss: 2626703.0611 - mean_squared_error: 2621826.2500 - val_loss: 4676502.9499 - val_mean_squared_error: 4671619.5000\n",
      "Epoch 92/200\n",
      "3195/3195 [==============================] - 0s 53us/step - loss: 2670299.3858 - mean_squared_error: 2665420.0000 - val_loss: 4629709.0513 - val_mean_squared_error: 4624822.0000\n",
      "Epoch 93/200\n",
      "3195/3195 [==============================] - 0s 52us/step - loss: 2614792.7753 - mean_squared_error: 2609904.5000 - val_loss: 4598893.0569 - val_mean_squared_error: 4593999.0000\n",
      "Epoch 94/200\n",
      "3195/3195 [==============================] - 0s 52us/step - loss: 2487893.7494 - mean_squared_error: 2482994.5000 - val_loss: 4587338.4687 - val_mean_squared_error: 4582434.5000\n",
      "Epoch 95/200\n",
      "3195/3195 [==============================] - 0s 55us/step - loss: 2539927.7682 - mean_squared_error: 2535025.5000 - val_loss: 4810705.4925 - val_mean_squared_error: 4805806.0000\n",
      "Epoch 96/200\n",
      "3195/3195 [==============================] - 0s 52us/step - loss: 2452543.7415 - mean_squared_error: 2447632.0000 - val_loss: 4554542.0507 - val_mean_squared_error: 4549626.0000\n",
      "Epoch 97/200\n",
      "3195/3195 [==============================] - 0s 55us/step - loss: 2432924.3082 - mean_squared_error: 2428005.7500 - val_loss: 4846216.4762 - val_mean_squared_error: 4841288.5000\n",
      "Epoch 98/200\n",
      "3195/3195 [==============================] - 0s 54us/step - loss: 2451288.4402 - mean_squared_error: 2446364.0000 - val_loss: 4582348.2275 - val_mean_squared_error: 4577419.0000\n",
      "Epoch 99/200\n",
      "3195/3195 [==============================] - 0s 56us/step - loss: 2438142.5861 - mean_squared_error: 2433206.7500 - val_loss: 4497742.9772 - val_mean_squared_error: 4492804.0000\n",
      "Epoch 100/200\n",
      "3195/3195 [==============================] - 0s 54us/step - loss: 2349717.5504 - mean_squared_error: 2344778.5000 - val_loss: 4517164.5103 - val_mean_squared_error: 4512218.5000\n",
      "Epoch 101/200\n",
      "3195/3195 [==============================] - 0s 55us/step - loss: 2419398.9966 - mean_squared_error: 2414450.5000 - val_loss: 4494922.6361 - val_mean_squared_error: 4489973.5000\n",
      "Epoch 102/200\n",
      "3195/3195 [==============================] - 0s 55us/step - loss: 2322876.7537 - mean_squared_error: 2317927.7500 - val_loss: 4813784.7422 - val_mean_squared_error: 4808824.0000\n",
      "Epoch 103/200\n",
      "3195/3195 [==============================] - 0s 54us/step - loss: 2367444.1580 - mean_squared_error: 2362486.2500 - val_loss: 4820443.3811 - val_mean_squared_error: 4815487.5000\n",
      "Epoch 104/200\n",
      "3195/3195 [==============================] - ETA: 0s - loss: 2434264.8824 - mean_squared_error: 2429302.50 - 0s 55us/step - loss: 2400294.3426 - mean_squared_error: 2395331.7500 - val_loss: 4571776.6483 - val_mean_squared_error: 4566808.5000\n",
      "Epoch 105/200\n",
      "3195/3195 [==============================] - 0s 53us/step - loss: 2338621.9362 - mean_squared_error: 2333648.7500 - val_loss: 4510817.2522 - val_mean_squared_error: 4505840.5000\n",
      "Epoch 106/200\n",
      "3195/3195 [==============================] - 0s 54us/step - loss: 2425190.0163 - mean_squared_error: 2420213.7500 - val_loss: 4683125.7103 - val_mean_squared_error: 4678152.5000\n",
      "Epoch 107/200\n",
      "3195/3195 [==============================] - 0s 56us/step - loss: 2373949.1082 - mean_squared_error: 2368971.5000 - val_loss: 4889140.9299 - val_mean_squared_error: 4884150.0000\n",
      "Epoch 108/200\n",
      "3195/3195 [==============================] - 0s 60us/step - loss: 2331551.7892 - mean_squared_error: 2326562.2500 - val_loss: 4593197.8579 - val_mean_squared_error: 4588201.5000\n",
      "Epoch 00108: early stopping\n"
     ]
    }
   ],
   "source": [
    "early_stopping = EarlyStopping(monitor='loss', patience=6, mode='min', verbose=1)\n",
    "nn3= build_model(**nn2_model.best_params_)\n",
    "nn3.compile(loss= \"mean_squared_error\" , optimizer=\"adam\", metrics=[\"mean_squared_error\"])\n",
    "nn3h = nn3.fit(X_train, y_train, epochs=200, batch_size=128, validation_split=0.2, callbacks=[early_stopping])"
   ]
  },
  {
   "cell_type": "code",
   "execution_count": 60,
   "metadata": {},
   "outputs": [
    {
     "name": "stdout",
     "output_type": "stream",
     "text": [
      "Model: \"sequential_3\"\n",
      "_________________________________________________________________\n",
      "Layer (type)                 Output Shape              Param #   \n",
      "=================================================================\n",
      "dense_13 (Dense)             (None, 333)               24309     \n",
      "_________________________________________________________________\n",
      "activation_8 (Activation)    (None, 333)               0         \n",
      "_________________________________________________________________\n",
      "dense_14 (Dense)             (None, 333)               111222    \n",
      "_________________________________________________________________\n",
      "activation_9 (Activation)    (None, 333)               0         \n",
      "_________________________________________________________________\n",
      "dense_15 (Dense)             (None, 333)               111222    \n",
      "_________________________________________________________________\n",
      "activation_10 (Activation)   (None, 333)               0         \n",
      "_________________________________________________________________\n",
      "dense_16 (Dense)             (None, 25)                8350      \n",
      "_________________________________________________________________\n",
      "activation_11 (Activation)   (None, 25)                0         \n",
      "_________________________________________________________________\n",
      "dense_17 (Dense)             (None, 25)                650       \n",
      "_________________________________________________________________\n",
      "activation_12 (Activation)   (None, 25)                0         \n",
      "_________________________________________________________________\n",
      "dense_18 (Dense)             (None, 25)                650       \n",
      "_________________________________________________________________\n",
      "activation_13 (Activation)   (None, 25)                0         \n",
      "_________________________________________________________________\n",
      "dense_19 (Dense)             (None, 25)                650       \n",
      "_________________________________________________________________\n",
      "activation_14 (Activation)   (None, 25)                0         \n",
      "_________________________________________________________________\n",
      "dense_20 (Dense)             (None, 1)                 26        \n",
      "=================================================================\n",
      "Total params: 257,079\n",
      "Trainable params: 257,079\n",
      "Non-trainable params: 0\n",
      "_________________________________________________________________\n",
      "None\n"
     ]
    }
   ],
   "source": [
    "print(nn3.summary())"
   ]
  },
  {
   "cell_type": "code",
   "execution_count": 24,
   "metadata": {},
   "outputs": [
    {
     "data": {
      "image/png": "[encoded data removed]",
      "text/plain": [
       "<Figure size 576x360 with 1 Axes>"
      ]
     },
     "metadata": {
      "needs_background": "light"
     },
     "output_type": "display_data"
    }
   ],
   "source": [
    "pd.DataFrame(nn3h.history).plot(figsize=(8, 5))\n",
    "plt.grid(True)\n",
    "plt.show()"
   ]
  },
  {
   "cell_type": "code",
   "execution_count": 25,
   "metadata": {},
   "outputs": [],
   "source": [
    "models=[]\n",
    "models.append(('ElasticNet', grid_1.best_estimator_))\n",
    "models.append(('Linear Regression', grid_2.best_estimator_))\n",
    "models.append(('Ridge', grid_3.best_estimator_))\n",
    "models.append(('Lasso', grid_4.best_estimator_))\n",
    "models.append(('SVR linear', grid_5.best_estimator_))\n",
    "models.append(('XGBRegressor', grid_6.best_estimator_))\n",
    "models.append(('MLP1', nnmodel))\n",
    "models.append(('MLP2', nn3))\n",
    "models.append(('Voting', vrmodel))\n"
   ]
  },
  {
   "cell_type": "code",
   "execution_count": 26,
   "metadata": {},
   "outputs": [
    {
     "name": "stdout",
     "output_type": "stream",
     "text": [
      "ElasticNet\n",
      "R^2: 0.7596842474615544\n",
      "Explained variance score: 0.7607408947134656\n",
      "Median absolute error: 1036.6340972460548\n",
      "Mean squared error: 5129078.913566269\n",
      "Mean absolute errors: 1524.0996688500597\n",
      "Linear Regression\n",
      "R^2: 0.6660183083181606\n",
      "Explained variance score: 0.6678025326192283\n",
      "Median absolute error: 1386.0\n",
      "Mean squared error: 7128198.772772773\n",
      "Mean absolute errors: 1936.7447447447448\n",
      "Ridge\n",
      "R^2: 0.7630685775798867\n",
      "Explained variance score: 0.7640144505883776\n",
      "Median absolute error: 1023.1174956231534\n",
      "Mean squared error: 5056846.876909793\n",
      "Mean absolute errors: 1499.685317937649\n",
      "Lasso\n",
      "R^2: 0.7499532870502421\n",
      "Explained variance score: 0.750589774174906\n",
      "Median absolute error: 965.742034861938\n",
      "Mean squared error: 5336767.603663375\n",
      "Mean absolute errors: 1515.378643761698\n",
      "SVR linear\n",
      "R^2: 0.6356681052945077\n",
      "Explained variance score: 0.6475609051202433\n",
      "Median absolute error: 1197.3922200182487\n",
      "Mean squared error: 7775965.657409972\n",
      "Mean absolute errors: 1914.1835660112856\n",
      "XGBRegressor\n",
      "R^2: 0.8382259219445325\n",
      "Explained variance score: 0.8383180948975022\n",
      "Median absolute error: 740.980224609375\n",
      "Mean squared error: 3452757.481568665\n",
      "Mean absolute errors: 1198.0144228701358\n",
      "MLP1\n",
      "R^2: 0.7574560760092137\n",
      "Explained variance score: 0.7600859672478482\n",
      "Median absolute error: 918.28369140625\n",
      "Mean squared error: 5176634.960522378\n",
      "Mean absolute errors: 1481.4632579662182\n",
      "MLP2\n",
      "R^2: 0.7683644639127497\n",
      "Explained variance score: 0.7687818959772736\n",
      "Median absolute error: 882.736328125\n",
      "Mean squared error: 4943816.338413628\n",
      "Mean absolute errors: 1431.9108036258915\n",
      "Voting\n",
      "R^2: 0.8334389902558718\n",
      "Explained variance score: 0.8338461363528904\n",
      "Median absolute error: 780.4788459028923\n",
      "Mean squared error: 3554925.359144913\n",
      "Mean absolute errors: 1218.3127326443014\n"
     ]
    },
    {
     "data": {
      "text/html": [
       "<div>\n",
       "<style scoped>\n",
       "    .dataframe tbody tr th:only-of-type {\n",
       "        vertical-align: middle;\n",
       "    }\n",
       "\n",
       "    .dataframe tbody tr th {\n",
       "        vertical-align: top;\n",
       "    }\n",
       "\n",
       "    .dataframe thead th {\n",
       "        text-align: right;\n",
       "    }\n",
       "</style>\n",
       "<table border=\"1\" class=\"dataframe\">\n",
       "  <thead>\n",
       "    <tr style=\"text-align: right;\">\n",
       "      <th></th>\n",
       "      <th>Method</th>\n",
       "      <th>r2</th>\n",
       "      <th>explained_variance_score</th>\n",
       "      <th>median_absolute_error</th>\n",
       "      <th>mean_squared_error</th>\n",
       "      <th>mean_absolute_error</th>\n",
       "    </tr>\n",
       "  </thead>\n",
       "  <tbody>\n",
       "    <tr>\n",
       "      <th>0</th>\n",
       "      <td>ElasticNet</td>\n",
       "      <td>0.759684</td>\n",
       "      <td>0.760741</td>\n",
       "      <td>1036.634097</td>\n",
       "      <td>5.129079e+06</td>\n",
       "      <td>1524.099669</td>\n",
       "    </tr>\n",
       "    <tr>\n",
       "      <th>1</th>\n",
       "      <td>Linear Regression</td>\n",
       "      <td>0.666018</td>\n",
       "      <td>0.667803</td>\n",
       "      <td>1386.000000</td>\n",
       "      <td>7.128199e+06</td>\n",
       "      <td>1936.744745</td>\n",
       "    </tr>\n",
       "    <tr>\n",
       "      <th>2</th>\n",
       "      <td>Ridge</td>\n",
       "      <td>0.763069</td>\n",
       "      <td>0.764014</td>\n",
       "      <td>1023.117496</td>\n",
       "      <td>5.056847e+06</td>\n",
       "      <td>1499.685318</td>\n",
       "    </tr>\n",
       "    <tr>\n",
       "      <th>3</th>\n",
       "      <td>Lasso</td>\n",
       "      <td>0.749953</td>\n",
       "      <td>0.750590</td>\n",
       "      <td>965.742035</td>\n",
       "      <td>5.336768e+06</td>\n",
       "      <td>1515.378644</td>\n",
       "    </tr>\n",
       "    <tr>\n",
       "      <th>4</th>\n",
       "      <td>SVR linear</td>\n",
       "      <td>0.635668</td>\n",
       "      <td>0.647561</td>\n",
       "      <td>1197.392220</td>\n",
       "      <td>7.775966e+06</td>\n",
       "      <td>1914.183566</td>\n",
       "    </tr>\n",
       "    <tr>\n",
       "      <th>5</th>\n",
       "      <td>XGBRegressor</td>\n",
       "      <td>0.838226</td>\n",
       "      <td>0.838318</td>\n",
       "      <td>740.980225</td>\n",
       "      <td>3.452757e+06</td>\n",
       "      <td>1198.014423</td>\n",
       "    </tr>\n",
       "    <tr>\n",
       "      <th>6</th>\n",
       "      <td>MLP1</td>\n",
       "      <td>0.757456</td>\n",
       "      <td>0.760086</td>\n",
       "      <td>918.283691</td>\n",
       "      <td>5.176635e+06</td>\n",
       "      <td>1481.463258</td>\n",
       "    </tr>\n",
       "    <tr>\n",
       "      <th>7</th>\n",
       "      <td>MLP2</td>\n",
       "      <td>0.768364</td>\n",
       "      <td>0.768782</td>\n",
       "      <td>882.736328</td>\n",
       "      <td>4.943816e+06</td>\n",
       "      <td>1431.910804</td>\n",
       "    </tr>\n",
       "    <tr>\n",
       "      <th>8</th>\n",
       "      <td>Voting</td>\n",
       "      <td>0.833439</td>\n",
       "      <td>0.833846</td>\n",
       "      <td>780.478846</td>\n",
       "      <td>3.554925e+06</td>\n",
       "      <td>1218.312733</td>\n",
       "    </tr>\n",
       "  </tbody>\n",
       "</table>\n",
       "</div>"
      ],
      "text/plain": [
       "              Method        r2  explained_variance_score  \\\n",
       "0         ElasticNet  0.759684                  0.760741   \n",
       "1  Linear Regression  0.666018                  0.667803   \n",
       "2              Ridge  0.763069                  0.764014   \n",
       "3              Lasso  0.749953                  0.750590   \n",
       "4         SVR linear  0.635668                  0.647561   \n",
       "5       XGBRegressor  0.838226                  0.838318   \n",
       "6               MLP1  0.757456                  0.760086   \n",
       "7               MLP2  0.768364                  0.768782   \n",
       "8             Voting  0.833439                  0.833846   \n",
       "\n",
       "   median_absolute_error  mean_squared_error  mean_absolute_error  \n",
       "0            1036.634097        5.129079e+06          1524.099669  \n",
       "1            1386.000000        7.128199e+06          1936.744745  \n",
       "2            1023.117496        5.056847e+06          1499.685318  \n",
       "3             965.742035        5.336768e+06          1515.378644  \n",
       "4            1197.392220        7.775966e+06          1914.183566  \n",
       "5             740.980225        3.452757e+06          1198.014423  \n",
       "6             918.283691        5.176635e+06          1481.463258  \n",
       "7             882.736328        4.943816e+06          1431.910804  \n",
       "8             780.478846        3.554925e+06          1218.312733  "
      ]
     },
     "execution_count": 26,
     "metadata": {},
     "output_type": "execute_result"
    }
   ],
   "source": [
    "r2 = []\n",
    "explained_variance_score = []\n",
    "median_absolute_error = []\n",
    "mean_squared_error = []\n",
    "mean_absolute_error = []\n",
    "for name, model in models:\n",
    "    print(name)\n",
    "    print(\"R^2: {}\".format(metrics.r2_score(y_test, model.predict(X_test)) ))\n",
    "    print(\"Explained variance score: {}\".format( metrics.explained_variance_score(y_test, model.predict(X_test)) ))\n",
    "    print(\"Median absolute error: {}\".format( metrics.median_absolute_error(y_test, model.predict(X_test)) ))\n",
    "    print(\"Mean squared error: {}\".format( metrics.mean_squared_error(y_test, model.predict(X_test)) ))\n",
    "    print(\"Mean absolute errors: {}\".format(metrics.mean_absolute_error(y_test, model.predict(X_test)) ))\n",
    "    r2.append(metrics.r2_score(y_test, model.predict(X_test)))\n",
    "    explained_variance_score.append(metrics.explained_variance_score(y_test, model.predict(X_test)))\n",
    "    median_absolute_error.append( metrics.median_absolute_error(y_test, model.predict(X_test)))\n",
    "    mean_squared_error.append(metrics.mean_squared_error(y_test, model.predict(X_test)))\n",
    "    mean_absolute_error.append(metrics.mean_absolute_error(y_test, model.predict(X_test)))\n",
    "\n",
    "d = {'r2': r2, \n",
    "     'explained_variance_score': explained_variance_score, \n",
    "     'median_absolute_error': median_absolute_error,\n",
    "     'mean_squared_error' : mean_squared_error,\n",
    "     'mean_absolute_error' : mean_absolute_error,\n",
    "    }\n",
    "df = pd.DataFrame(data=d)\n",
    "\n",
    "df.insert(loc=0, column='Method', value=np.reshape(models,(int(len(models)),2))[:,0])\n",
    "df"
   ]
  },
  {
   "cell_type": "code",
   "execution_count": null,
   "metadata": {},
   "outputs": [],
   "source": []
  },
  {
   "cell_type": "code",
   "execution_count": null,
   "metadata": {},
   "outputs": [],
   "source": []
  }
 ],
 "metadata": {
  "kernelspec": {
   "display_name": "Python 3",
   "language": "python",
   "name": "python3"
  },
  "language_info": {
   "codemirror_mode": {
    "name": "ipython",
    "version": 3
   },
   "file_extension": ".py",
   "mimetype": "text/x-python",
   "name": "python",
   "nbconvert_exporter": "python",
   "pygments_lexer": "ipython3",
   "version": "3.7.6"
  }
 },
 "nbformat": 4,
 "nbformat_minor": 2
}
